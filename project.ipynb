{
 "cells": [
  {
   "cell_type": "code",
   "execution_count": 10,
   "id": "afa71430-0ae9-4063-aaaa-edca4bdedaf7",
   "metadata": {},
   "outputs": [
    {
     "name": "stdout",
     "output_type": "stream",
     "text": [
      "Welcome to the Quest for the Hidden Treasure!\n",
      "\n",
      "You are a brave adventurer seeking a legendary treasure hidden deep in the mountains.\n",
      "Your journey begins at the base of a mysterious mountain. Will you be able to find the treasure?\n",
      "\n",
      "You see two paths ahead:\n",
      "1. A dark cave that looks dangerous but may be a shortcut.\n",
      "2. A narrow trail that winds up the mountain.\n"
     ]
    },
    {
     "name": "stdin",
     "output_type": "stream",
     "text": [
      "Which path will you choose? (1 or 2):  1\n"
     ]
    },
    {
     "name": "stdout",
     "output_type": "stream",
     "text": [
      "\n",
      "You enter the dark cave. The air is damp, and you hear strange noises.\n",
      "Suddenly, you encounter a wild bear!\n",
      "You have two options:\n",
      "1. Fight the bear with your sword.\n",
      "2. Try to sneak past the bear.\n"
     ]
    },
    {
     "name": "stdin",
     "output_type": "stream",
     "text": [
      "What will you do? (1 or 2):  1\n"
     ]
    },
    {
     "name": "stdout",
     "output_type": "stream",
     "text": [
      "\n",
      "You bravely draw your sword and charge at the bear!\n",
      "After a tough battle, you defeat it, but you're injured.\n",
      "You find a health potion nearby. Do you:\n",
      "1. Drink the potion to heal yourself.\n",
      "2. Save the potion for later.\n"
     ]
    },
    {
     "name": "stdin",
     "output_type": "stream",
     "text": [
      "What will you do? (1 or 2):  1\n"
     ]
    },
    {
     "name": "stdout",
     "output_type": "stream",
     "text": [
      "\n",
      "You drink the potion and regain your strength.\n",
      "You venture deeper into the cave and come across a split path.\n",
      "1. Take the left tunnel, which smells like fresh air.\n",
      "2. Take the right tunnel, which is darker but has glowing stones.\n"
     ]
    },
    {
     "name": "stdin",
     "output_type": "stream",
     "text": [
      "Which tunnel will you take? (1 or 2):  2\n"
     ]
    },
    {
     "name": "stdout",
     "output_type": "stream",
     "text": [
      "\n",
      "The glowing stones lead you to a secret chamber, where the hidden treasure is located!\n",
      "Congratulations! You have found the hidden treasure and completed your quest!\n"
     ]
    }
   ],
   "source": [
    "\n",
    "print(\"Welcome to the Quest for the Hidden Treasure!\")\n",
    "\n",
    "# Introduction to the game\n",
    "print(\"\\nYou are a brave adventurer seeking a legendary treasure hidden deep in the mountains.\")\n",
    "print(\"Your journey begins at the base of a mysterious mountain. Will you be able to find the treasure?\\n\")\n",
    "\n",
    "# First decision\n",
    "print(\"You see two paths ahead:\")\n",
    "print(\"1. A dark cave that looks dangerous but may be a shortcut.\")\n",
    "print(\"2. A narrow trail that winds up the mountain.\")\n",
    "choice1 = input(\"Which path will you choose? (1 or 2): \")\n",
    "\n",
    "# Cave path (choice 1)\n",
    "if choice1 == \"1\":\n",
    "    print(\"\\nYou enter the dark cave. The air is damp, and you hear strange noises.\")\n",
    "    print(\"Suddenly, you encounter a wild bear!\")\n",
    "    print(\"You have two options:\")\n",
    "    print(\"1. Fight the bear with your sword.\")\n",
    "    print(\"2. Try to sneak past the bear.\")\n",
    "    choice2 = input(\"What will you do? (1 or 2): \")\n",
    "    \n",
    "    if choice2 == \"1\":\n",
    "        print(\"\\nYou bravely draw your sword and charge at the bear!\")\n",
    "        print(\"After a tough battle, you defeat it, but you're injured.\")\n",
    "        print(\"You find a health potion nearby. Do you:\")\n",
    "        print(\"1. Drink the potion to heal yourself.\")\n",
    "        print(\"2. Save the potion for later.\")\n",
    "        choice3 = input(\"What will you do? (1 or 2): \")\n",
    "        \n",
    "        if choice3 == \"1\":\n",
    "            print(\"\\nYou drink the potion and regain your strength.\")\n",
    "            print(\"You venture deeper into the cave and come across a split path.\")\n",
    "            print(\"1. Take the left tunnel, which smells like fresh air.\")\n",
    "            print(\"2. Take the right tunnel, which is darker but has glowing stones.\")\n",
    "            choice4 = input(\"Which tunnel will you take? (1 or 2): \")\n",
    "            \n",
    "            if choice4 == \"1\":\n",
    "                print(\"\\nThe left tunnel leads outside the cave, but you're back where you started!\")\n",
    "                print(\"You failed to find the treasure. Better luck next time!\")\n",
    "            elif choice4 == \"2\":\n",
    "                print(\"\\nThe glowing stones lead you to a secret chamber, where the hidden treasure is located!\")\n",
    "                print(\"Congratulations! You have found the hidden treasure and completed your quest!\")\n",
    "            else:\n",
    "                print(\"Invalid input. Game over.\")\n",
    "                \n",
    "        elif choice3 == \"2\":\n",
    "            print(\"\\nYou decide to save the potion for later, but your injuries slow you down.\")\n",
    "            print(\"While exploring deeper, you get lost in the cave and can't find your way out.\")\n",
    "            print(\"Your quest ends here. Better luck next time!\")\n",
    "        else:\n",
    "            print(\"Invalid input. Game over.\")\n",
    "    \n",
    "    elif choice2 == \"2\":\n",
    "        print(\"\\nYou try to sneak past the bear, but it notices you!\")\n",
    "        print(\"The bear chases you out of the cave, and you have no choice but to retreat.\")\n",
    "        print(\"You have failed in your quest. Better luck next time!\")\n",
    "    else:\n",
    "        print(\"Invalid input. Game over.\")\n",
    "        \n",
    "# Mountain path (choice 2)\n",
    "elif choice1 == \"2\":\n",
    "    print(\"\\nYou take the narrow trail and begin your ascent up the mountain.\")\n",
    "    print(\"The path is treacherous, and you come to a fork in the road.\")\n",
    "    print(\"1. Continue up the steep path.\")\n",
    "    print(\"2. Take a detour through a dense forest.\")\n",
    "    choice3 = input(\"Which route will you take? (1 or 2): \")\n",
    "    \n",
    "    if choice3 == \"1\":\n",
    "        print(\"\\nYou push onward up the steep path, but the mountain is unforgiving.\")\n",
    "        print(\"You slip and fall, injuring yourself. However, you see a small hut nearby.\")\n",
    "        print(\"Do you:\")\n",
    "        print(\"1. Go to the hut to seek help.\")\n",
    "        print(\"2. Continue up the mountain despite your injuries.\")\n",
    "        choice4 = input(\"What will you do? (1 or 2): \")\n",
    "        \n",
    "        if choice4 == \"1\":\n",
    "            print(\"\\nYou enter the hut and meet a wise hermit who offers to heal you.\")\n",
    "            print(\"He also gives you a map to the hidden treasure!\")\n",
    "            print(\"You follow the map and find the treasure after a long trek. Congratulations!\")\n",
    "        elif choice4 == \"2\":\n",
    "            print(\"\\nYou decide to continue, but the mountain is too dangerous in your condition.\")\n",
    "            print(\"You collapse from exhaustion, and your quest ends here.\")\n",
    "        else:\n",
    "            print(\"Invalid input. Game over.\")\n",
    "    \n",
    "    elif choice3 == \"2\":\n",
    "        print(\"\\nYou take the forest route, and after hours of walking, you find a hidden village.\")\n",
    "        print(\"The villagers are friendly but ask you to prove your worth before giving you clues about the treasure.\")\n",
    "        print(\"They ask you a question: What is 2 + 2?\")\n",
    "        answer = input(\"What is your answer? \")\n",
    "        \n",
    "        if answer == \"4\":\n",
    "            print(\"\\nThe villagers are impressed with your answer and guide you to the treasure's location.\")\n",
    "            print(\"Congratulations! You have found the hidden treasure and completed your quest!\")\n",
    "        else:\n",
    "            print(\"\\nThe villagers laugh and refuse to help you.\")\n",
    "            print(\"You wander the forest aimlessly, and your quest ends here.\")\n",
    "    else:\n",
    "        print(\"Invalid input. Game over.\")\n",
    "\n",
    "# Invalid first choice\n",
    "else:\n",
    "    print(\"Invalid input. Game over.\")\n",
    "\n"
   ]
  },
  {
   "cell_type": "code",
   "execution_count": null,
   "id": "221814f4-9348-406a-bf44-ceb4cfb857ea",
   "metadata": {},
   "outputs": [],
   "source": []
  }
 ],
 "metadata": {
  "kernelspec": {
   "display_name": "Python 3 (ipykernel)",
   "language": "python",
   "name": "python3"
  },
  "language_info": {
   "codemirror_mode": {
    "name": "ipython",
    "version": 3
   },
   "file_extension": ".py",
   "mimetype": "text/x-python",
   "name": "python",
   "nbconvert_exporter": "python",
   "pygments_lexer": "ipython3",
   "version": "3.11.7"
  }
 },
 "nbformat": 4,
 "nbformat_minor": 5
}
